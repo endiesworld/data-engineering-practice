{
 "cells": [
  {
   "cell_type": "code",
   "execution_count": 32,
   "id": "1b8e1c18-9b6e-4aef-b612-c7cfb4bc927a",
   "metadata": {},
   "outputs": [],
   "source": [
    "import os\n",
    "\n",
    "# Replace \"../../../../\" with the actual absolute path to your home directory\n",
    "home_directory = \"../../../../\"\n",
    "os.environ[\"SPARK_HOME\"] = os.path.join(home_directory, \"spark-3.3.2-bin-hadoop3\")"
   ]
  },
  {
   "cell_type": "code",
   "execution_count": 33,
   "id": "66f10fff-a799-44f8-957f-61e7b6f4299b",
   "metadata": {},
   "outputs": [],
   "source": [
    "import findspark\n",
    "findspark.init()\n",
    "import pyspark\n",
    "from pyspark.sql import SparkSession"
   ]
  },
  {
   "cell_type": "code",
   "execution_count": 7,
   "id": "84b01e78-ed5a-41fd-ab41-eff8b7c731d3",
   "metadata": {},
   "outputs": [
    {
     "name": "stdout",
     "output_type": "stream",
     "text": [
      "--2024-02-22 12:55:24--  https://d37ci6vzurychx.cloudfront.net/trip-data/fhvhv_tripdata_2021-01.parquet\n",
      "Resolving d37ci6vzurychx.cloudfront.net (d37ci6vzurychx.cloudfront.net)... 18.239.38.181, 18.239.38.83, 18.239.38.147, ...\n",
      "Connecting to d37ci6vzurychx.cloudfront.net (d37ci6vzurychx.cloudfront.net)|18.239.38.181|:443... connected.\n",
      "HTTP request sent, awaiting response... 200 OK\n",
      "Length: 308924937 (295M) [application/x-www-form-urlencoded]\n",
      "Saving to: ‘fhvhv_tripdata_2021-01.parquet’\n",
      "\n",
      "fhvhv_tripdata_2021 100%[===================>] 294.61M  1.24MB/s    in 4m 10s  \n",
      "\n",
      "2024-02-22 12:59:35 (1.18 MB/s) - ‘fhvhv_tripdata_2021-01.parquet’ saved [308924937/308924937]\n",
      "\n"
     ]
    }
   ],
   "source": [
    "!wget https://d37ci6vzurychx.cloudfront.net/trip-data/fhvhv_tripdata_2021-01.parquet"
   ]
  },
  {
   "cell_type": "code",
   "execution_count": 34,
   "id": "d958a278-88e5-4522-a9f7-35026b40dc66",
   "metadata": {},
   "outputs": [],
   "source": [
    "spark = SparkSession.builder \\\n",
    "    .master(\"local[*]\") \\\n",
    "    .appName('spark_parquet_csv_dataframe') \\\n",
    "    .getOrCreate()\n",
    "df = spark.read \\\n",
    "    .option(\"header\", \"true\") \\\n",
    "    .parquet('fhvhv_tripdata_2021-01.parquet')\n"
   ]
  },
  {
   "cell_type": "code",
   "execution_count": 35,
   "id": "35f72dbb-2ca5-4f40-a865-cfa93e0cb158",
   "metadata": {},
   "outputs": [
    {
     "name": "stderr",
     "output_type": "stream",
     "text": [
      "                                                                                \r"
     ]
    },
    {
     "data": {
      "text/plain": [
       "[Row(hvfhs_license_num='HV0003', dispatching_base_num='B02682', originating_base_num='B02682', request_datetime=datetime.datetime(2021, 1, 1, 1, 28, 9), on_scene_datetime=datetime.datetime(2021, 1, 1, 1, 31, 42), pickup_datetime=datetime.datetime(2021, 1, 1, 1, 33, 44), dropoff_datetime=datetime.datetime(2021, 1, 1, 1, 49, 7), PULocationID=230, DOLocationID=166, trip_miles=5.26, trip_time=923, base_passenger_fare=22.28, tolls=0.0, bcf=0.67, sales_tax=1.98, congestion_surcharge=2.75, airport_fee=None, tips=0.0, driver_pay=14.99, shared_request_flag='N', shared_match_flag='N', access_a_ride_flag=' ', wav_request_flag='N', wav_match_flag='N'),\n",
       " Row(hvfhs_license_num='HV0003', dispatching_base_num='B02682', originating_base_num='B02682', request_datetime=datetime.datetime(2021, 1, 1, 1, 45, 56), on_scene_datetime=datetime.datetime(2021, 1, 1, 1, 55, 19), pickup_datetime=datetime.datetime(2021, 1, 1, 1, 55, 19), dropoff_datetime=datetime.datetime(2021, 1, 1, 2, 18, 21), PULocationID=152, DOLocationID=167, trip_miles=3.65, trip_time=1382, base_passenger_fare=18.36, tolls=0.0, bcf=0.55, sales_tax=1.63, congestion_surcharge=0.0, airport_fee=None, tips=0.0, driver_pay=17.06, shared_request_flag='N', shared_match_flag='N', access_a_ride_flag=' ', wav_request_flag='N', wav_match_flag='N')]"
      ]
     },
     "execution_count": 35,
     "metadata": {},
     "output_type": "execute_result"
    }
   ],
   "source": [
    "df.head(2)"
   ]
  },
  {
   "cell_type": "code",
   "execution_count": 36,
   "id": "9827b70c-d195-40fd-b491-e9e032ecbf2b",
   "metadata": {},
   "outputs": [
    {
     "name": "stderr",
     "output_type": "stream",
     "text": [
      "                                                                                \r"
     ]
    }
   ],
   "source": [
    "# Save DataFrame as CSV\n",
    "csv_output_path = \"fhvhv_tripdata_2021-01\"\n",
    "df.write.csv(csv_output_path, header=True, mode=\"overwrite\")"
   ]
  },
  {
   "cell_type": "code",
   "execution_count": 37,
   "id": "c698a667-9468-4b3c-9186-320c5ed84666",
   "metadata": {},
   "outputs": [
    {
     "data": {
      "text/plain": [
       "[Row(_c0='hvfhs_license_num', _c1='dispatching_base_num', _c2='originating_base_num', _c3='request_datetime', _c4='on_scene_datetime', _c5='pickup_datetime', _c6='dropoff_datetime', _c7='PULocationID', _c8='DOLocationID', _c9='trip_miles', _c10='trip_time', _c11='base_passenger_fare', _c12='tolls', _c13='bcf', _c14='sales_tax', _c15='congestion_surcharge', _c16='airport_fee', _c17='tips', _c18='driver_pay', _c19='shared_request_flag', _c20='shared_match_flag', _c21='access_a_ride_flag', _c22='wav_request_flag', _c23='wav_match_flag'),\n",
       " Row(_c0='HV0003', _c1='B02682', _c2='B02682', _c3='2021-01-01T01:28:09.000+01:00', _c4='2021-01-01T01:31:42.000+01:00', _c5='2021-01-01T01:33:44.000+01:00', _c6='2021-01-01T01:49:07.000+01:00', _c7='230', _c8='166', _c9='5.26', _c10='923', _c11='22.28', _c12='0.0', _c13='0.67', _c14='1.98', _c15='2.75', _c16=None, _c17='0.0', _c18='14.99', _c19='N', _c20='N', _c21=None, _c22='N', _c23='N'),\n",
       " Row(_c0='HV0003', _c1='B02682', _c2='B02682', _c3='2021-01-01T01:45:56.000+01:00', _c4='2021-01-01T01:55:19.000+01:00', _c5='2021-01-01T01:55:19.000+01:00', _c6='2021-01-01T02:18:21.000+01:00', _c7='152', _c8='167', _c9='3.65', _c10='1382', _c11='18.36', _c12='0.0', _c13='0.55', _c14='1.63', _c15='0.0', _c16=None, _c17='0.0', _c18='17.06', _c19='N', _c20='N', _c21=None, _c22='N', _c23='N'),\n",
       " Row(_c0='HV0003', _c1='B02764', _c2='B02764', _c3='2021-01-01T01:21:15.000+01:00', _c4='2021-01-01T01:22:41.000+01:00', _c5='2021-01-01T01:23:56.000+01:00', _c6='2021-01-01T01:38:05.000+01:00', _c7='233', _c8='142', _c9='3.51', _c10='849', _c11='14.05', _c12='0.0', _c13='0.48', _c14='1.25', _c15='2.75', _c16=None, _c17='0.94', _c18='12.98', _c19='N', _c20='N', _c21=None, _c22='N', _c23='N'),\n",
       " Row(_c0='HV0003', _c1='B02764', _c2='B02764', _c3='2021-01-01T01:39:12.000+01:00', _c4='2021-01-01T01:42:37.000+01:00', _c5='2021-01-01T01:42:51.000+01:00', _c6='2021-01-01T01:45:50.000+01:00', _c7='142', _c8='143', _c9='0.74', _c10='179', _c11='7.91', _c12='0.0', _c13='0.24', _c14='0.7', _c15='2.75', _c16=None, _c17='0.0', _c18='7.41', _c19='N', _c20='N', _c21=None, _c22='N', _c23='N')]"
      ]
     },
     "execution_count": 37,
     "metadata": {},
     "output_type": "execute_result"
    }
   ],
   "source": [
    "# Initialize Spark session\n",
    "df = spark.read.csv(csv_output_path)\n",
    "df.head(5)"
   ]
  },
  {
   "cell_type": "code",
   "execution_count": 38,
   "id": "325921c2-d22b-439d-9157-01f600896a22",
   "metadata": {},
   "outputs": [
    {
     "name": "stdout",
     "output_type": "stream",
     "text": [
      "+-----------------+--------------------+--------------------+--------------------+--------------------+--------------------+--------------------+------------+------------+----------+---------+-------------------+-----+----+---------+--------------------+-----------+----+----------+-------------------+-----------------+------------------+----------------+--------------+\n",
      "|              _c0|                 _c1|                 _c2|                 _c3|                 _c4|                 _c5|                 _c6|         _c7|         _c8|       _c9|     _c10|               _c11| _c12|_c13|     _c14|                _c15|       _c16|_c17|      _c18|               _c19|             _c20|              _c21|            _c22|          _c23|\n",
      "+-----------------+--------------------+--------------------+--------------------+--------------------+--------------------+--------------------+------------+------------+----------+---------+-------------------+-----+----+---------+--------------------+-----------+----+----------+-------------------+-----------------+------------------+----------------+--------------+\n",
      "|hvfhs_license_num|dispatching_base_num|originating_base_num|    request_datetime|   on_scene_datetime|     pickup_datetime|    dropoff_datetime|PULocationID|DOLocationID|trip_miles|trip_time|base_passenger_fare|tolls| bcf|sales_tax|congestion_surcharge|airport_fee|tips|driver_pay|shared_request_flag|shared_match_flag|access_a_ride_flag|wav_request_flag|wav_match_flag|\n",
      "|           HV0003|              B02682|              B02682|2021-01-01T01:28:...|2021-01-01T01:31:...|2021-01-01T01:33:...|2021-01-01T01:49:...|         230|         166|      5.26|      923|              22.28|  0.0|0.67|     1.98|                2.75|       null| 0.0|     14.99|                  N|                N|              null|               N|             N|\n",
      "|           HV0003|              B02682|              B02682|2021-01-01T01:45:...|2021-01-01T01:55:...|2021-01-01T01:55:...|2021-01-01T02:18:...|         152|         167|      3.65|     1382|              18.36|  0.0|0.55|     1.63|                 0.0|       null| 0.0|     17.06|                  N|                N|              null|               N|             N|\n",
      "+-----------------+--------------------+--------------------+--------------------+--------------------+--------------------+--------------------+------------+------------+----------+---------+-------------------+-----+----+---------+--------------------+-----------+----+----------+-------------------+-----------------+------------------+----------------+--------------+\n",
      "only showing top 3 rows\n",
      "\n"
     ]
    }
   ],
   "source": [
    "df.show(3)"
   ]
  },
  {
   "cell_type": "code",
   "execution_count": 39,
   "id": "ba522073-e4c6-4ff4-af53-cbe77a7a85e4",
   "metadata": {},
   "outputs": [],
   "source": [
    "!head -n 1001 fhvhv_tripdata_2021-01/part-00003-b3745da6-f656-4cf8-84ab-6a6daa827582-c000.csv > head.csv "
   ]
  },
  {
   "cell_type": "code",
   "execution_count": 40,
   "id": "552f347b-8181-4fae-8f0c-5f6363b1130a",
   "metadata": {},
   "outputs": [
    {
     "name": "stdout",
     "output_type": "stream",
     "text": [
      "1001 head.csv\n"
     ]
    }
   ],
   "source": [
    "!wc -l head.csv"
   ]
  },
  {
   "cell_type": "code",
   "execution_count": 41,
   "id": "0b6774ee-5d8d-49e4-9056-9b09046b04b8",
   "metadata": {},
   "outputs": [],
   "source": [
    "import pandas as pd"
   ]
  },
  {
   "cell_type": "code",
   "execution_count": 42,
   "id": "9d5cc8f0-94b0-4a39-a46c-9074e73f44b0",
   "metadata": {},
   "outputs": [
    {
     "data": {
      "text/html": [
       "<div>\n",
       "<style scoped>\n",
       "    .dataframe tbody tr th:only-of-type {\n",
       "        vertical-align: middle;\n",
       "    }\n",
       "\n",
       "    .dataframe tbody tr th {\n",
       "        vertical-align: top;\n",
       "    }\n",
       "\n",
       "    .dataframe thead th {\n",
       "        text-align: right;\n",
       "    }\n",
       "</style>\n",
       "<table border=\"1\" class=\"dataframe\">\n",
       "  <thead>\n",
       "    <tr style=\"text-align: right;\">\n",
       "      <th></th>\n",
       "      <th>hvfhs_license_num</th>\n",
       "      <th>dispatching_base_num</th>\n",
       "      <th>originating_base_num</th>\n",
       "      <th>request_datetime</th>\n",
       "      <th>on_scene_datetime</th>\n",
       "      <th>pickup_datetime</th>\n",
       "      <th>dropoff_datetime</th>\n",
       "      <th>PULocationID</th>\n",
       "      <th>DOLocationID</th>\n",
       "      <th>trip_miles</th>\n",
       "      <th>...</th>\n",
       "      <th>sales_tax</th>\n",
       "      <th>congestion_surcharge</th>\n",
       "      <th>airport_fee</th>\n",
       "      <th>tips</th>\n",
       "      <th>driver_pay</th>\n",
       "      <th>shared_request_flag</th>\n",
       "      <th>shared_match_flag</th>\n",
       "      <th>access_a_ride_flag</th>\n",
       "      <th>wav_request_flag</th>\n",
       "      <th>wav_match_flag</th>\n",
       "    </tr>\n",
       "  </thead>\n",
       "  <tbody>\n",
       "    <tr>\n",
       "      <th>0</th>\n",
       "      <td>HV0003</td>\n",
       "      <td>B02682</td>\n",
       "      <td>B02682</td>\n",
       "      <td>2021-01-01T01:28:09.000+01:00</td>\n",
       "      <td>2021-01-01T01:31:42.000+01:00</td>\n",
       "      <td>2021-01-01T01:33:44.000+01:00</td>\n",
       "      <td>2021-01-01T01:49:07.000+01:00</td>\n",
       "      <td>230</td>\n",
       "      <td>166</td>\n",
       "      <td>5.26</td>\n",
       "      <td>...</td>\n",
       "      <td>1.98</td>\n",
       "      <td>2.75</td>\n",
       "      <td>NaN</td>\n",
       "      <td>0.00</td>\n",
       "      <td>14.99</td>\n",
       "      <td>N</td>\n",
       "      <td>N</td>\n",
       "      <td>NaN</td>\n",
       "      <td>N</td>\n",
       "      <td>N</td>\n",
       "    </tr>\n",
       "    <tr>\n",
       "      <th>1</th>\n",
       "      <td>HV0003</td>\n",
       "      <td>B02682</td>\n",
       "      <td>B02682</td>\n",
       "      <td>2021-01-01T01:45:56.000+01:00</td>\n",
       "      <td>2021-01-01T01:55:19.000+01:00</td>\n",
       "      <td>2021-01-01T01:55:19.000+01:00</td>\n",
       "      <td>2021-01-01T02:18:21.000+01:00</td>\n",
       "      <td>152</td>\n",
       "      <td>167</td>\n",
       "      <td>3.65</td>\n",
       "      <td>...</td>\n",
       "      <td>1.63</td>\n",
       "      <td>0.00</td>\n",
       "      <td>NaN</td>\n",
       "      <td>0.00</td>\n",
       "      <td>17.06</td>\n",
       "      <td>N</td>\n",
       "      <td>N</td>\n",
       "      <td>NaN</td>\n",
       "      <td>N</td>\n",
       "      <td>N</td>\n",
       "    </tr>\n",
       "    <tr>\n",
       "      <th>2</th>\n",
       "      <td>HV0003</td>\n",
       "      <td>B02764</td>\n",
       "      <td>B02764</td>\n",
       "      <td>2021-01-01T01:21:15.000+01:00</td>\n",
       "      <td>2021-01-01T01:22:41.000+01:00</td>\n",
       "      <td>2021-01-01T01:23:56.000+01:00</td>\n",
       "      <td>2021-01-01T01:38:05.000+01:00</td>\n",
       "      <td>233</td>\n",
       "      <td>142</td>\n",
       "      <td>3.51</td>\n",
       "      <td>...</td>\n",
       "      <td>1.25</td>\n",
       "      <td>2.75</td>\n",
       "      <td>NaN</td>\n",
       "      <td>0.94</td>\n",
       "      <td>12.98</td>\n",
       "      <td>N</td>\n",
       "      <td>N</td>\n",
       "      <td>NaN</td>\n",
       "      <td>N</td>\n",
       "      <td>N</td>\n",
       "    </tr>\n",
       "    <tr>\n",
       "      <th>3</th>\n",
       "      <td>HV0003</td>\n",
       "      <td>B02764</td>\n",
       "      <td>B02764</td>\n",
       "      <td>2021-01-01T01:39:12.000+01:00</td>\n",
       "      <td>2021-01-01T01:42:37.000+01:00</td>\n",
       "      <td>2021-01-01T01:42:51.000+01:00</td>\n",
       "      <td>2021-01-01T01:45:50.000+01:00</td>\n",
       "      <td>142</td>\n",
       "      <td>143</td>\n",
       "      <td>0.74</td>\n",
       "      <td>...</td>\n",
       "      <td>0.70</td>\n",
       "      <td>2.75</td>\n",
       "      <td>NaN</td>\n",
       "      <td>0.00</td>\n",
       "      <td>7.41</td>\n",
       "      <td>N</td>\n",
       "      <td>N</td>\n",
       "      <td>NaN</td>\n",
       "      <td>N</td>\n",
       "      <td>N</td>\n",
       "    </tr>\n",
       "    <tr>\n",
       "      <th>4</th>\n",
       "      <td>HV0003</td>\n",
       "      <td>B02764</td>\n",
       "      <td>B02764</td>\n",
       "      <td>2021-01-01T01:46:11.000+01:00</td>\n",
       "      <td>2021-01-01T01:47:17.000+01:00</td>\n",
       "      <td>2021-01-01T01:48:14.000+01:00</td>\n",
       "      <td>2021-01-01T02:08:42.000+01:00</td>\n",
       "      <td>143</td>\n",
       "      <td>78</td>\n",
       "      <td>9.20</td>\n",
       "      <td>...</td>\n",
       "      <td>2.41</td>\n",
       "      <td>2.75</td>\n",
       "      <td>NaN</td>\n",
       "      <td>0.00</td>\n",
       "      <td>22.44</td>\n",
       "      <td>N</td>\n",
       "      <td>N</td>\n",
       "      <td>NaN</td>\n",
       "      <td>N</td>\n",
       "      <td>N</td>\n",
       "    </tr>\n",
       "  </tbody>\n",
       "</table>\n",
       "<p>5 rows × 24 columns</p>\n",
       "</div>"
      ],
      "text/plain": [
       "  hvfhs_license_num dispatching_base_num originating_base_num  \\\n",
       "0            HV0003               B02682               B02682   \n",
       "1            HV0003               B02682               B02682   \n",
       "2            HV0003               B02764               B02764   \n",
       "3            HV0003               B02764               B02764   \n",
       "4            HV0003               B02764               B02764   \n",
       "\n",
       "                request_datetime              on_scene_datetime  \\\n",
       "0  2021-01-01T01:28:09.000+01:00  2021-01-01T01:31:42.000+01:00   \n",
       "1  2021-01-01T01:45:56.000+01:00  2021-01-01T01:55:19.000+01:00   \n",
       "2  2021-01-01T01:21:15.000+01:00  2021-01-01T01:22:41.000+01:00   \n",
       "3  2021-01-01T01:39:12.000+01:00  2021-01-01T01:42:37.000+01:00   \n",
       "4  2021-01-01T01:46:11.000+01:00  2021-01-01T01:47:17.000+01:00   \n",
       "\n",
       "                 pickup_datetime               dropoff_datetime  PULocationID  \\\n",
       "0  2021-01-01T01:33:44.000+01:00  2021-01-01T01:49:07.000+01:00           230   \n",
       "1  2021-01-01T01:55:19.000+01:00  2021-01-01T02:18:21.000+01:00           152   \n",
       "2  2021-01-01T01:23:56.000+01:00  2021-01-01T01:38:05.000+01:00           233   \n",
       "3  2021-01-01T01:42:51.000+01:00  2021-01-01T01:45:50.000+01:00           142   \n",
       "4  2021-01-01T01:48:14.000+01:00  2021-01-01T02:08:42.000+01:00           143   \n",
       "\n",
       "   DOLocationID  trip_miles  ...  sales_tax  congestion_surcharge  \\\n",
       "0           166        5.26  ...       1.98                  2.75   \n",
       "1           167        3.65  ...       1.63                  0.00   \n",
       "2           142        3.51  ...       1.25                  2.75   \n",
       "3           143        0.74  ...       0.70                  2.75   \n",
       "4            78        9.20  ...       2.41                  2.75   \n",
       "\n",
       "   airport_fee  tips  driver_pay  shared_request_flag  shared_match_flag  \\\n",
       "0          NaN  0.00       14.99                    N                  N   \n",
       "1          NaN  0.00       17.06                    N                  N   \n",
       "2          NaN  0.94       12.98                    N                  N   \n",
       "3          NaN  0.00        7.41                    N                  N   \n",
       "4          NaN  0.00       22.44                    N                  N   \n",
       "\n",
       "   access_a_ride_flag  wav_request_flag wav_match_flag  \n",
       "0                 NaN                 N              N  \n",
       "1                 NaN                 N              N  \n",
       "2                 NaN                 N              N  \n",
       "3                 NaN                 N              N  \n",
       "4                 NaN                 N              N  \n",
       "\n",
       "[5 rows x 24 columns]"
      ]
     },
     "execution_count": 42,
     "metadata": {},
     "output_type": "execute_result"
    }
   ],
   "source": [
    "df_pandas = pd.read_csv('head.csv')\n",
    "df_pandas.head(5)"
   ]
  },
  {
   "cell_type": "code",
   "execution_count": 47,
   "id": "195f4bc3-eea3-4691-95b7-fe16f79a4af0",
   "metadata": {},
   "outputs": [
    {
     "data": {
      "text/html": [
       "<div>\n",
       "<style scoped>\n",
       "    .dataframe tbody tr th:only-of-type {\n",
       "        vertical-align: middle;\n",
       "    }\n",
       "\n",
       "    .dataframe tbody tr th {\n",
       "        vertical-align: top;\n",
       "    }\n",
       "\n",
       "    .dataframe thead th {\n",
       "        text-align: right;\n",
       "    }\n",
       "</style>\n",
       "<table border=\"1\" class=\"dataframe\">\n",
       "  <thead>\n",
       "    <tr style=\"text-align: right;\">\n",
       "      <th></th>\n",
       "      <th>trip_miles</th>\n",
       "      <th>trip_time</th>\n",
       "      <th>shared_request_flag</th>\n",
       "      <th>shared_match_flag</th>\n",
       "    </tr>\n",
       "  </thead>\n",
       "  <tbody>\n",
       "    <tr>\n",
       "      <th>0</th>\n",
       "      <td>5.26</td>\n",
       "      <td>923</td>\n",
       "      <td>N</td>\n",
       "      <td>N</td>\n",
       "    </tr>\n",
       "    <tr>\n",
       "      <th>1</th>\n",
       "      <td>3.65</td>\n",
       "      <td>1382</td>\n",
       "      <td>N</td>\n",
       "      <td>N</td>\n",
       "    </tr>\n",
       "    <tr>\n",
       "      <th>2</th>\n",
       "      <td>3.51</td>\n",
       "      <td>849</td>\n",
       "      <td>N</td>\n",
       "      <td>N</td>\n",
       "    </tr>\n",
       "  </tbody>\n",
       "</table>\n",
       "</div>"
      ],
      "text/plain": [
       "   trip_miles  trip_time shared_request_flag shared_match_flag\n",
       "0        5.26        923                   N                 N\n",
       "1        3.65       1382                   N                 N\n",
       "2        3.51        849                   N                 N"
      ]
     },
     "execution_count": 47,
     "metadata": {},
     "output_type": "execute_result"
    }
   ],
   "source": [
    "df_pandas[['trip_miles','trip_time','shared_request_flag', 'shared_match_flag' ]].head(3)"
   ]
  },
  {
   "cell_type": "code",
   "execution_count": 45,
   "id": "18319c21-3cb0-4645-bbff-712216917363",
   "metadata": {
    "scrolled": true
   },
   "outputs": [
    {
     "data": {
      "text/plain": [
       "hvfhs_license_num        object\n",
       "dispatching_base_num     object\n",
       "originating_base_num     object\n",
       "request_datetime         object\n",
       "on_scene_datetime        object\n",
       "pickup_datetime          object\n",
       "dropoff_datetime         object\n",
       "PULocationID              int64\n",
       "DOLocationID              int64\n",
       "trip_miles              float64\n",
       "trip_time                 int64\n",
       "base_passenger_fare     float64\n",
       "tolls                   float64\n",
       "bcf                     float64\n",
       "sales_tax               float64\n",
       "congestion_surcharge    float64\n",
       "airport_fee             float64\n",
       "tips                    float64\n",
       "driver_pay              float64\n",
       "shared_request_flag      object\n",
       "shared_match_flag        object\n",
       "access_a_ride_flag       object\n",
       "wav_request_flag         object\n",
       "wav_match_flag           object\n",
       "dtype: object"
      ]
     },
     "execution_count": 45,
     "metadata": {},
     "output_type": "execute_result"
    }
   ],
   "source": [
    "df_pandas.dtypes"
   ]
  },
  {
   "cell_type": "code",
   "execution_count": 52,
   "id": "6c0adf75-2fca-404d-abee-5db9200e3543",
   "metadata": {},
   "outputs": [],
   "source": [
    "# import necessary types\n",
    "from pyspark.sql.types import StructType, StructField, StringType, IntegerType, DoubleType, TimestampType, FloatType"
   ]
  },
  {
   "cell_type": "code",
   "execution_count": 57,
   "id": "a4964df6-78ac-401d-b4b8-1fdf2276aaca",
   "metadata": {},
   "outputs": [],
   "source": [
    "# Define the schema\n",
    "schema = StructType([\n",
    "    StructField(name=\"hvfhs_license_num\", dataType=StringType(), nullable=True),\n",
    "    StructField(name=\"dispatching_base_num\", dataType=StringType(), nullable=True),\n",
    "    StructField(name=\"originating_base_num\", dataType=StringType(), nullable=True),\n",
    "    StructField(name=\"request_datetime\", dataType=TimestampType(), nullable=True),\n",
    "    StructField(name=\"on_scene_datetime\", dataType=TimestampType(), nullable=True),\n",
    "    StructField(name=\"pickup_datetime\", dataType=TimestampType(), nullable=True),\n",
    "    StructField(name=\"dropoff_datetime\", dataType=TimestampType(), nullable=True),\n",
    "    StructField(name=\"PULocationID\", dataType=IntegerType(), nullable=True),\n",
    "    StructField(name=\"DOLocationID\", dataType=IntegerType(), nullable=True),\n",
    "    StructField(name=\"trip_miles\", dataType=FloatType(), nullable=True),\n",
    "    StructField(name=\"trip_time\", dataType=IntegerType(), nullable=True),\n",
    "    StructField(name=\"base_passenger_fare\", dataType=FloatType(), nullable=True),\n",
    "    StructField(name=\"tolls\", dataType=FloatType(), nullable=True),\n",
    "    StructField(name=\"bcf\", dataType=FloatType(), nullable=True),\n",
    "    StructField(name=\"sales_tax\", dataType=FloatType(), nullable=True),\n",
    "    StructField(name=\"congestion_surcharge\", dataType=FloatType(), nullable=True),\n",
    "    StructField(name=\"airport_fee\", dataType=FloatType(), nullable=True),\n",
    "    StructField(name=\"tips\", dataType=FloatType(), nullable=True),\n",
    "    StructField(name=\"driver_pay\", dataType=FloatType(), nullable=True),\n",
    "    StructField(name=\"shared_request_flag\", dataType=StringType(), nullable=True),\n",
    "    StructField(name=\"shared_match_flag\", dataType=StringType(), nullable=True),\n",
    "    StructField(name=\"access_a_ride_flag\", dataType=StringType(), nullable=True),\n",
    "    StructField(name=\"wav_request_flag\", dataType=StringType(), nullable=True),\n",
    "    StructField(name=\"wav_match_flag\", dataType=StringType(), nullable=True),\n",
    "])"
   ]
  },
  {
   "cell_type": "code",
   "execution_count": 58,
   "id": "2e17b80c-4ff0-431b-9e38-76debb41b793",
   "metadata": {},
   "outputs": [
    {
     "data": {
      "text/plain": [
       "[Row(hvfhs_license_num='HV0003', dispatching_base_num='B02682', originating_base_num='B02682', request_datetime=datetime.datetime(2021, 1, 1, 1, 28, 9), on_scene_datetime=datetime.datetime(2021, 1, 1, 1, 31, 42), pickup_datetime=datetime.datetime(2021, 1, 1, 1, 33, 44), dropoff_datetime=datetime.datetime(2021, 1, 1, 1, 49, 7), PULocationID=230, DOLocationID=166, trip_miles=5.260000228881836, trip_time=923, base_passenger_fare=22.280000686645508, tolls=0.0, bcf=0.6700000166893005, sales_tax=1.9800000190734863, congestion_surcharge=2.75, airport_fee=None, tips=0.0, driver_pay=14.989999771118164, shared_request_flag='N', shared_match_flag='N', access_a_ride_flag=None, wav_request_flag='N', wav_match_flag='N'),\n",
       " Row(hvfhs_license_num='HV0003', dispatching_base_num='B02682', originating_base_num='B02682', request_datetime=datetime.datetime(2021, 1, 1, 1, 45, 56), on_scene_datetime=datetime.datetime(2021, 1, 1, 1, 55, 19), pickup_datetime=datetime.datetime(2021, 1, 1, 1, 55, 19), dropoff_datetime=datetime.datetime(2021, 1, 1, 2, 18, 21), PULocationID=152, DOLocationID=167, trip_miles=3.6500000953674316, trip_time=1382, base_passenger_fare=18.360000610351562, tolls=0.0, bcf=0.550000011920929, sales_tax=1.6299999952316284, congestion_surcharge=0.0, airport_fee=None, tips=0.0, driver_pay=17.059999465942383, shared_request_flag='N', shared_match_flag='N', access_a_ride_flag=None, wav_request_flag='N', wav_match_flag='N'),\n",
       " Row(hvfhs_license_num='HV0003', dispatching_base_num='B02764', originating_base_num='B02764', request_datetime=datetime.datetime(2021, 1, 1, 1, 21, 15), on_scene_datetime=datetime.datetime(2021, 1, 1, 1, 22, 41), pickup_datetime=datetime.datetime(2021, 1, 1, 1, 23, 56), dropoff_datetime=datetime.datetime(2021, 1, 1, 1, 38, 5), PULocationID=233, DOLocationID=142, trip_miles=3.509999990463257, trip_time=849, base_passenger_fare=14.050000190734863, tolls=0.0, bcf=0.47999998927116394, sales_tax=1.25, congestion_surcharge=2.75, airport_fee=None, tips=0.9399999976158142, driver_pay=12.979999542236328, shared_request_flag='N', shared_match_flag='N', access_a_ride_flag=None, wav_request_flag='N', wav_match_flag='N'),\n",
       " Row(hvfhs_license_num='HV0003', dispatching_base_num='B02764', originating_base_num='B02764', request_datetime=datetime.datetime(2021, 1, 1, 1, 39, 12), on_scene_datetime=datetime.datetime(2021, 1, 1, 1, 42, 37), pickup_datetime=datetime.datetime(2021, 1, 1, 1, 42, 51), dropoff_datetime=datetime.datetime(2021, 1, 1, 1, 45, 50), PULocationID=142, DOLocationID=143, trip_miles=0.7400000095367432, trip_time=179, base_passenger_fare=7.909999847412109, tolls=0.0, bcf=0.23999999463558197, sales_tax=0.699999988079071, congestion_surcharge=2.75, airport_fee=None, tips=0.0, driver_pay=7.409999847412109, shared_request_flag='N', shared_match_flag='N', access_a_ride_flag=None, wav_request_flag='N', wav_match_flag='N'),\n",
       " Row(hvfhs_license_num='HV0003', dispatching_base_num='B02764', originating_base_num='B02764', request_datetime=datetime.datetime(2021, 1, 1, 1, 46, 11), on_scene_datetime=datetime.datetime(2021, 1, 1, 1, 47, 17), pickup_datetime=datetime.datetime(2021, 1, 1, 1, 48, 14), dropoff_datetime=datetime.datetime(2021, 1, 1, 2, 8, 42), PULocationID=143, DOLocationID=78, trip_miles=9.199999809265137, trip_time=1228, base_passenger_fare=27.110000610351562, tolls=0.0, bcf=0.8100000023841858, sales_tax=2.4100000858306885, congestion_surcharge=2.75, airport_fee=None, tips=0.0, driver_pay=22.440000534057617, shared_request_flag='N', shared_match_flag='N', access_a_ride_flag=None, wav_request_flag='N', wav_match_flag='N')]"
      ]
     },
     "execution_count": 58,
     "metadata": {},
     "output_type": "execute_result"
    }
   ],
   "source": [
    "df = spark.read.option('header', 'true').schema(schema).csv(csv_output_path)\n",
    "df.head(5)"
   ]
  },
  {
   "cell_type": "code",
   "execution_count": 59,
   "id": "0911a480-df8b-4b2f-bd7f-7e4cbebe13ac",
   "metadata": {},
   "outputs": [],
   "source": [
    "df = df.repartition(24)"
   ]
  },
  {
   "cell_type": "code",
   "execution_count": 61,
   "id": "a2254c4b-a31e-47c2-b5fa-0c2b8ae655e8",
   "metadata": {},
   "outputs": [
    {
     "name": "stderr",
     "output_type": "stream",
     "text": [
      "[Stage 12:====================================================>   (17 + 1) / 18]\r"
     ]
    },
    {
     "name": "stdout",
     "output_type": "stream",
     "text": [
      "24/02/24 14:44:49 WARN MemoryManager: Total allocation exceeds 95.00% (1,020,054,720 bytes) of heap memory\n",
      "Scaling row group sizes to 95.00% for 8 writers\n"
     ]
    },
    {
     "name": "stderr",
     "output_type": "stream",
     "text": [
      "[Stage 14:==>                                                      (1 + 8) / 24]\r"
     ]
    },
    {
     "name": "stdout",
     "output_type": "stream",
     "text": [
      "24/02/24 14:45:00 WARN MemoryManager: Total allocation exceeds 95.00% (1,020,054,720 bytes) of heap memory\n",
      "Scaling row group sizes to 95.00% for 8 writers\n"
     ]
    },
    {
     "name": "stderr",
     "output_type": "stream",
     "text": [
      "[Stage 14:=======>                                                 (3 + 8) / 24]\r"
     ]
    },
    {
     "name": "stdout",
     "output_type": "stream",
     "text": [
      "24/02/24 14:45:01 WARN MemoryManager: Total allocation exceeds 95.00% (1,020,054,720 bytes) of heap memory\n",
      "Scaling row group sizes to 95.00% for 8 writers\n"
     ]
    },
    {
     "name": "stderr",
     "output_type": "stream",
     "text": [
      "[Stage 14:=========>                                               (4 + 8) / 24]\r"
     ]
    },
    {
     "name": "stdout",
     "output_type": "stream",
     "text": [
      "24/02/24 14:45:03 WARN MemoryManager: Total allocation exceeds 95.00% (1,020,054,720 bytes) of heap memory\n",
      "Scaling row group sizes to 95.00% for 8 writers\n"
     ]
    },
    {
     "name": "stderr",
     "output_type": "stream",
     "text": [
      "[Stage 14:================>                                        (7 + 8) / 24]\r"
     ]
    },
    {
     "name": "stdout",
     "output_type": "stream",
     "text": [
      "24/02/24 14:45:05 WARN MemoryManager: Total allocation exceeds 95.00% (1,020,054,720 bytes) of heap memory\n",
      "Scaling row group sizes to 95.00% for 8 writers\n"
     ]
    },
    {
     "name": "stderr",
     "output_type": "stream",
     "text": [
      "[Stage 14:===================>                                     (8 + 8) / 24]\r"
     ]
    },
    {
     "name": "stdout",
     "output_type": "stream",
     "text": [
      "24/02/24 14:45:07 WARN MemoryManager: Total allocation exceeds 95.00% (1,020,054,720 bytes) of heap memory\n",
      "Scaling row group sizes to 95.00% for 8 writers\n"
     ]
    },
    {
     "name": "stderr",
     "output_type": "stream",
     "text": [
      "[Stage 14:=======================>                                (10 + 8) / 24]\r"
     ]
    },
    {
     "name": "stdout",
     "output_type": "stream",
     "text": [
      "24/02/24 14:45:17 WARN MemoryManager: Total allocation exceeds 95.00% (1,020,054,720 bytes) of heap memory\n",
      "Scaling row group sizes to 95.00% for 8 writers\n"
     ]
    },
    {
     "name": "stderr",
     "output_type": "stream",
     "text": [
      "[Stage 14:============================>                           (12 + 8) / 24]\r"
     ]
    },
    {
     "name": "stdout",
     "output_type": "stream",
     "text": [
      "24/02/24 14:45:22 WARN MemoryManager: Total allocation exceeds 95.00% (1,020,054,720 bytes) of heap memory\n",
      "Scaling row group sizes to 95.00% for 8 writers\n"
     ]
    },
    {
     "name": "stderr",
     "output_type": "stream",
     "text": [
      "[Stage 14:================================>                       (14 + 8) / 24]\r"
     ]
    },
    {
     "name": "stdout",
     "output_type": "stream",
     "text": [
      "24/02/24 14:45:23 WARN MemoryManager: Total allocation exceeds 95.00% (1,020,054,720 bytes) of heap memory\n",
      "Scaling row group sizes to 95.00% for 8 writers\n"
     ]
    },
    {
     "name": "stderr",
     "output_type": "stream",
     "text": [
      "[Stage 14:===================================>                    (15 + 8) / 24]\r"
     ]
    },
    {
     "name": "stdout",
     "output_type": "stream",
     "text": [
      "24/02/24 14:45:24 WARN MemoryManager: Total allocation exceeds 95.00% (1,020,054,720 bytes) of heap memory\n",
      "Scaling row group sizes to 95.00% for 8 writers\n"
     ]
    },
    {
     "name": "stderr",
     "output_type": "stream",
     "text": [
      "[Stage 14:=====================================>                  (16 + 8) / 24]\r"
     ]
    },
    {
     "name": "stdout",
     "output_type": "stream",
     "text": [
      "24/02/24 14:45:25 WARN MemoryManager: Total allocation exceeds 95.00% (1,020,054,720 bytes) of heap memory\n",
      "Scaling row group sizes to 95.00% for 8 writers\n"
     ]
    },
    {
     "name": "stderr",
     "output_type": "stream",
     "text": [
      "                                                                                \r"
     ]
    }
   ],
   "source": [
    "df.write.parquet('fhvhv/2021/01/')"
   ]
  },
  {
   "cell_type": "code",
   "execution_count": 62,
   "id": "d8525a7e-0f2d-4fa7-ba93-e1f92715595f",
   "metadata": {},
   "outputs": [
    {
     "name": "stdout",
     "output_type": "stream",
     "text": [
      "root\n",
      " |-- hvfhs_license_num: string (nullable = true)\n",
      " |-- dispatching_base_num: string (nullable = true)\n",
      " |-- originating_base_num: string (nullable = true)\n",
      " |-- request_datetime: timestamp (nullable = true)\n",
      " |-- on_scene_datetime: timestamp (nullable = true)\n",
      " |-- pickup_datetime: timestamp (nullable = true)\n",
      " |-- dropoff_datetime: timestamp (nullable = true)\n",
      " |-- PULocationID: integer (nullable = true)\n",
      " |-- DOLocationID: integer (nullable = true)\n",
      " |-- trip_miles: float (nullable = true)\n",
      " |-- trip_time: integer (nullable = true)\n",
      " |-- base_passenger_fare: float (nullable = true)\n",
      " |-- tolls: float (nullable = true)\n",
      " |-- bcf: float (nullable = true)\n",
      " |-- sales_tax: float (nullable = true)\n",
      " |-- congestion_surcharge: float (nullable = true)\n",
      " |-- airport_fee: float (nullable = true)\n",
      " |-- tips: float (nullable = true)\n",
      " |-- driver_pay: float (nullable = true)\n",
      " |-- shared_request_flag: string (nullable = true)\n",
      " |-- shared_match_flag: string (nullable = true)\n",
      " |-- access_a_ride_flag: string (nullable = true)\n",
      " |-- wav_request_flag: string (nullable = true)\n",
      " |-- wav_match_flag: string (nullable = true)\n",
      "\n"
     ]
    }
   ],
   "source": [
    "df = spark.read.parquet('fhvhv/2021/01/')\n",
    "df.printSchema()"
   ]
  },
  {
   "cell_type": "code",
   "execution_count": 64,
   "id": "e406386e-3847-479e-9a0b-1ce44afe5136",
   "metadata": {},
   "outputs": [],
   "source": [
    "from pyspark.sql import functions as F"
   ]
  },
  {
   "cell_type": "code",
   "execution_count": 65,
   "id": "061cd49f-f071-4ade-9e16-07c4c9a246ee",
   "metadata": {},
   "outputs": [
    {
     "name": "stdout",
     "output_type": "stream",
     "text": [
      "+-----------+------------+------------+------------+\n",
      "|pickup_date|dropoff_date|PULocationID|DOLocationID|\n",
      "+-----------+------------+------------+------------+\n",
      "| 2021-01-02|  2021-01-02|         116|         132|\n",
      "| 2021-01-02|  2021-01-02|          61|          37|\n",
      "| 2021-01-01|  2021-01-01|         241|         263|\n",
      "| 2021-01-01|  2021-01-01|         129|          36|\n",
      "| 2021-01-01|  2021-01-01|          89|          91|\n",
      "| 2021-01-01|  2021-01-01|         174|           7|\n",
      "| 2021-01-02|  2021-01-02|          95|          95|\n",
      "| 2021-01-01|  2021-01-01|         244|         244|\n",
      "| 2021-01-02|  2021-01-02|          17|          25|\n",
      "| 2021-01-02|  2021-01-02|          79|         148|\n",
      "+-----------+------------+------------+------------+\n",
      "only showing top 10 rows\n",
      "\n"
     ]
    },
    {
     "name": "stderr",
     "output_type": "stream",
     "text": [
      "                                                                                \r"
     ]
    }
   ],
   "source": [
    "df_trans_1 = df.withColumn('pickup_date', F.to_date(df.pickup_datetime))\\\n",
    "                .withColumn('dropoff_date', F.to_date(df.dropoff_datetime))\\\n",
    "                .select('pickup_date', 'dropoff_date', 'PULocationID', 'DOLocationID') \n",
    "df_trans_1.show(10)"
   ]
  },
  {
   "cell_type": "code",
   "execution_count": 66,
   "id": "a3d75d4f-e96b-4653-8a61-b8fd6bd47897",
   "metadata": {},
   "outputs": [],
   "source": [
    "spark.stop()"
   ]
  },
  {
   "cell_type": "code",
   "execution_count": null,
   "id": "3d98fb95-9c10-4719-9161-faba37a0ad5d",
   "metadata": {},
   "outputs": [],
   "source": []
  }
 ],
 "metadata": {
  "kernelspec": {
   "display_name": "Python 3 (ipykernel)",
   "language": "python",
   "name": "python3"
  },
  "language_info": {
   "codemirror_mode": {
    "name": "ipython",
    "version": 3
   },
   "file_extension": ".py",
   "mimetype": "text/x-python",
   "name": "python",
   "nbconvert_exporter": "python",
   "pygments_lexer": "ipython3",
   "version": "3.9.15"
  }
 },
 "nbformat": 4,
 "nbformat_minor": 5
}
