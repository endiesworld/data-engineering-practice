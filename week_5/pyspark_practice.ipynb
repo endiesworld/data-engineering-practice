{
 "cells": [
  {
   "cell_type": "code",
   "execution_count": 4,
   "id": "1b8e1c18-9b6e-4aef-b612-c7cfb4bc927a",
   "metadata": {},
   "outputs": [],
   "source": [
    "import os\n",
    "\n",
    "# Replace \"../../../../\" with the actual absolute path to your home directory\n",
    "home_directory = \"../../../../\"\n",
    "os.environ[\"SPARK_HOME\"] = os.path.join(home_directory, \"spark-3.3.2-bin-hadoop3\")"
   ]
  },
  {
   "cell_type": "code",
   "execution_count": 6,
   "id": "66f10fff-a799-44f8-957f-61e7b6f4299b",
   "metadata": {},
   "outputs": [],
   "source": [
    "import findspark\n",
    "findspark.init()\n",
    "import pyspark\n",
    "from pyspark.sql import SparkSession"
   ]
  },
  {
   "cell_type": "code",
   "execution_count": 7,
   "id": "84b01e78-ed5a-41fd-ab41-eff8b7c731d3",
   "metadata": {},
   "outputs": [
    {
     "name": "stdout",
     "output_type": "stream",
     "text": [
      "--2024-02-22 12:55:24--  https://d37ci6vzurychx.cloudfront.net/trip-data/fhvhv_tripdata_2021-01.parquet\n",
      "Resolving d37ci6vzurychx.cloudfront.net (d37ci6vzurychx.cloudfront.net)... 18.239.38.181, 18.239.38.83, 18.239.38.147, ...\n",
      "Connecting to d37ci6vzurychx.cloudfront.net (d37ci6vzurychx.cloudfront.net)|18.239.38.181|:443... connected.\n",
      "HTTP request sent, awaiting response... 200 OK\n",
      "Length: 308924937 (295M) [application/x-www-form-urlencoded]\n",
      "Saving to: ‘fhvhv_tripdata_2021-01.parquet’\n",
      "\n",
      "fhvhv_tripdata_2021 100%[===================>] 294.61M  1.24MB/s    in 4m 10s  \n",
      "\n",
      "2024-02-22 12:59:35 (1.18 MB/s) - ‘fhvhv_tripdata_2021-01.parquet’ saved [308924937/308924937]\n",
      "\n"
     ]
    }
   ],
   "source": [
    "!wget https://d37ci6vzurychx.cloudfront.net/trip-data/fhvhv_tripdata_2021-01.parquet"
   ]
  },
  {
   "cell_type": "code",
   "execution_count": 10,
   "id": "d958a278-88e5-4522-a9f7-35026b40dc66",
   "metadata": {},
   "outputs": [],
   "source": [
    "spark = SparkSession.builder \\\n",
    "    .master(\"local[*]\") \\\n",
    "    .appName('test') \\\n",
    "    .getOrCreate()\n",
    "df = spark.read \\\n",
    "    .option(\"header\", \"true\") \\\n",
    "    .parquet('fhvhv_tripdata_2021-01.parquet')\n"
   ]
  },
  {
   "cell_type": "code",
   "execution_count": 11,
   "id": "35f72dbb-2ca5-4f40-a865-cfa93e0cb158",
   "metadata": {},
   "outputs": [
    {
     "name": "stderr",
     "output_type": "stream",
     "text": [
      "                                                                                \r"
     ]
    },
    {
     "data": {
      "text/plain": [
       "[Row(hvfhs_license_num='HV0003', dispatching_base_num='B02682', originating_base_num='B02682', request_datetime=datetime.datetime(2021, 1, 1, 1, 28, 9), on_scene_datetime=datetime.datetime(2021, 1, 1, 1, 31, 42), pickup_datetime=datetime.datetime(2021, 1, 1, 1, 33, 44), dropoff_datetime=datetime.datetime(2021, 1, 1, 1, 49, 7), PULocationID=230, DOLocationID=166, trip_miles=5.26, trip_time=923, base_passenger_fare=22.28, tolls=0.0, bcf=0.67, sales_tax=1.98, congestion_surcharge=2.75, airport_fee=None, tips=0.0, driver_pay=14.99, shared_request_flag='N', shared_match_flag='N', access_a_ride_flag=' ', wav_request_flag='N', wav_match_flag='N'),\n",
       " Row(hvfhs_license_num='HV0003', dispatching_base_num='B02682', originating_base_num='B02682', request_datetime=datetime.datetime(2021, 1, 1, 1, 45, 56), on_scene_datetime=datetime.datetime(2021, 1, 1, 1, 55, 19), pickup_datetime=datetime.datetime(2021, 1, 1, 1, 55, 19), dropoff_datetime=datetime.datetime(2021, 1, 1, 2, 18, 21), PULocationID=152, DOLocationID=167, trip_miles=3.65, trip_time=1382, base_passenger_fare=18.36, tolls=0.0, bcf=0.55, sales_tax=1.63, congestion_surcharge=0.0, airport_fee=None, tips=0.0, driver_pay=17.06, shared_request_flag='N', shared_match_flag='N', access_a_ride_flag=' ', wav_request_flag='N', wav_match_flag='N'),\n",
       " Row(hvfhs_license_num='HV0003', dispatching_base_num='B02764', originating_base_num='B02764', request_datetime=datetime.datetime(2021, 1, 1, 1, 21, 15), on_scene_datetime=datetime.datetime(2021, 1, 1, 1, 22, 41), pickup_datetime=datetime.datetime(2021, 1, 1, 1, 23, 56), dropoff_datetime=datetime.datetime(2021, 1, 1, 1, 38, 5), PULocationID=233, DOLocationID=142, trip_miles=3.51, trip_time=849, base_passenger_fare=14.05, tolls=0.0, bcf=0.48, sales_tax=1.25, congestion_surcharge=2.75, airport_fee=None, tips=0.94, driver_pay=12.98, shared_request_flag='N', shared_match_flag='N', access_a_ride_flag=' ', wav_request_flag='N', wav_match_flag='N'),\n",
       " Row(hvfhs_license_num='HV0003', dispatching_base_num='B02764', originating_base_num='B02764', request_datetime=datetime.datetime(2021, 1, 1, 1, 39, 12), on_scene_datetime=datetime.datetime(2021, 1, 1, 1, 42, 37), pickup_datetime=datetime.datetime(2021, 1, 1, 1, 42, 51), dropoff_datetime=datetime.datetime(2021, 1, 1, 1, 45, 50), PULocationID=142, DOLocationID=143, trip_miles=0.74, trip_time=179, base_passenger_fare=7.91, tolls=0.0, bcf=0.24, sales_tax=0.7, congestion_surcharge=2.75, airport_fee=None, tips=0.0, driver_pay=7.41, shared_request_flag='N', shared_match_flag='N', access_a_ride_flag=' ', wav_request_flag='N', wav_match_flag='N'),\n",
       " Row(hvfhs_license_num='HV0003', dispatching_base_num='B02764', originating_base_num='B02764', request_datetime=datetime.datetime(2021, 1, 1, 1, 46, 11), on_scene_datetime=datetime.datetime(2021, 1, 1, 1, 47, 17), pickup_datetime=datetime.datetime(2021, 1, 1, 1, 48, 14), dropoff_datetime=datetime.datetime(2021, 1, 1, 2, 8, 42), PULocationID=143, DOLocationID=78, trip_miles=9.2, trip_time=1228, base_passenger_fare=27.11, tolls=0.0, bcf=0.81, sales_tax=2.41, congestion_surcharge=2.75, airport_fee=None, tips=0.0, driver_pay=22.44, shared_request_flag='N', shared_match_flag='N', access_a_ride_flag=' ', wav_request_flag='N', wav_match_flag='N')]"
      ]
     },
     "execution_count": 11,
     "metadata": {},
     "output_type": "execute_result"
    }
   ],
   "source": [
    "df.head(5)"
   ]
  },
  {
   "cell_type": "code",
   "execution_count": 19,
   "id": "9827b70c-d195-40fd-b491-e9e032ecbf2b",
   "metadata": {},
   "outputs": [
    {
     "name": "stderr",
     "output_type": "stream",
     "text": [
      "                                                                                \r"
     ]
    }
   ],
   "source": [
    "# Save DataFrame as CSV\n",
    "csv_output_path = \"fhvhv_tripdata_2021-01\"\n",
    "df.write.csv(csv_output_path, header=True, mode=\"overwrite\")\n",
    "\n",
    "# Stop the Spark session\n",
    "# spark.stop()\n"
   ]
  },
  {
   "cell_type": "code",
   "execution_count": 23,
   "id": "c698a667-9468-4b3c-9186-320c5ed84666",
   "metadata": {},
   "outputs": [],
   "source": [
    "# Initialize Spark session\n",
    "df = spark.read.csv(csv_output_path)"
   ]
  },
  {
   "cell_type": "code",
   "execution_count": 24,
   "id": "211cfcee-d2dc-45e0-85f2-92cb3ff7b82b",
   "metadata": {},
   "outputs": [
    {
     "data": {
      "text/plain": [
       "[Row(_c0='hvfhs_license_num', _c1='dispatching_base_num', _c2='originating_base_num', _c3='request_datetime', _c4='on_scene_datetime', _c5='pickup_datetime', _c6='dropoff_datetime', _c7='PULocationID', _c8='DOLocationID', _c9='trip_miles', _c10='trip_time', _c11='base_passenger_fare', _c12='tolls', _c13='bcf', _c14='sales_tax', _c15='congestion_surcharge', _c16='airport_fee', _c17='tips', _c18='driver_pay', _c19='shared_request_flag', _c20='shared_match_flag', _c21='access_a_ride_flag', _c22='wav_request_flag', _c23='wav_match_flag'),\n",
       " Row(_c0='HV0003', _c1='B02682', _c2='B02682', _c3='2021-01-01T01:28:09.000+01:00', _c4='2021-01-01T01:31:42.000+01:00', _c5='2021-01-01T01:33:44.000+01:00', _c6='2021-01-01T01:49:07.000+01:00', _c7='230', _c8='166', _c9='5.26', _c10='923', _c11='22.28', _c12='0.0', _c13='0.67', _c14='1.98', _c15='2.75', _c16=None, _c17='0.0', _c18='14.99', _c19='N', _c20='N', _c21=None, _c22='N', _c23='N'),\n",
       " Row(_c0='HV0003', _c1='B02682', _c2='B02682', _c3='2021-01-01T01:45:56.000+01:00', _c4='2021-01-01T01:55:19.000+01:00', _c5='2021-01-01T01:55:19.000+01:00', _c6='2021-01-01T02:18:21.000+01:00', _c7='152', _c8='167', _c9='3.65', _c10='1382', _c11='18.36', _c12='0.0', _c13='0.55', _c14='1.63', _c15='0.0', _c16=None, _c17='0.0', _c18='17.06', _c19='N', _c20='N', _c21=None, _c22='N', _c23='N'),\n",
       " Row(_c0='HV0003', _c1='B02764', _c2='B02764', _c3='2021-01-01T01:21:15.000+01:00', _c4='2021-01-01T01:22:41.000+01:00', _c5='2021-01-01T01:23:56.000+01:00', _c6='2021-01-01T01:38:05.000+01:00', _c7='233', _c8='142', _c9='3.51', _c10='849', _c11='14.05', _c12='0.0', _c13='0.48', _c14='1.25', _c15='2.75', _c16=None, _c17='0.94', _c18='12.98', _c19='N', _c20='N', _c21=None, _c22='N', _c23='N'),\n",
       " Row(_c0='HV0003', _c1='B02764', _c2='B02764', _c3='2021-01-01T01:39:12.000+01:00', _c4='2021-01-01T01:42:37.000+01:00', _c5='2021-01-01T01:42:51.000+01:00', _c6='2021-01-01T01:45:50.000+01:00', _c7='142', _c8='143', _c9='0.74', _c10='179', _c11='7.91', _c12='0.0', _c13='0.24', _c14='0.7', _c15='2.75', _c16=None, _c17='0.0', _c18='7.41', _c19='N', _c20='N', _c21=None, _c22='N', _c23='N')]"
      ]
     },
     "execution_count": 24,
     "metadata": {},
     "output_type": "execute_result"
    }
   ],
   "source": [
    "df.head(5)"
   ]
  },
  {
   "cell_type": "code",
   "execution_count": 25,
   "id": "ba522073-e4c6-4ff4-af53-cbe77a7a85e4",
   "metadata": {},
   "outputs": [],
   "source": [
    "!head -n 1001 fhvhv_tripdata_2021-01/part-00003-df6612bb-380d-4e15-81d9-df2d77f44aee-c000.csv > head.csv "
   ]
  },
  {
   "cell_type": "code",
   "execution_count": 26,
   "id": "552f347b-8181-4fae-8f0c-5f6363b1130a",
   "metadata": {},
   "outputs": [
    {
     "name": "stdout",
     "output_type": "stream",
     "text": [
      "1001 head.csv\n"
     ]
    }
   ],
   "source": [
    "!wc -l head.csv"
   ]
  },
  {
   "cell_type": "code",
   "execution_count": 27,
   "id": "0b6774ee-5d8d-49e4-9056-9b09046b04b8",
   "metadata": {},
   "outputs": [],
   "source": [
    "import pandas as pd"
   ]
  },
  {
   "cell_type": "code",
   "execution_count": 28,
   "id": "9d5cc8f0-94b0-4a39-a46c-9074e73f44b0",
   "metadata": {},
   "outputs": [
    {
     "data": {
      "text/html": [
       "<div>\n",
       "<style scoped>\n",
       "    .dataframe tbody tr th:only-of-type {\n",
       "        vertical-align: middle;\n",
       "    }\n",
       "\n",
       "    .dataframe tbody tr th {\n",
       "        vertical-align: top;\n",
       "    }\n",
       "\n",
       "    .dataframe thead th {\n",
       "        text-align: right;\n",
       "    }\n",
       "</style>\n",
       "<table border=\"1\" class=\"dataframe\">\n",
       "  <thead>\n",
       "    <tr style=\"text-align: right;\">\n",
       "      <th></th>\n",
       "      <th>hvfhs_license_num</th>\n",
       "      <th>dispatching_base_num</th>\n",
       "      <th>originating_base_num</th>\n",
       "      <th>request_datetime</th>\n",
       "      <th>on_scene_datetime</th>\n",
       "      <th>pickup_datetime</th>\n",
       "      <th>dropoff_datetime</th>\n",
       "      <th>PULocationID</th>\n",
       "      <th>DOLocationID</th>\n",
       "      <th>trip_miles</th>\n",
       "      <th>...</th>\n",
       "      <th>sales_tax</th>\n",
       "      <th>congestion_surcharge</th>\n",
       "      <th>airport_fee</th>\n",
       "      <th>tips</th>\n",
       "      <th>driver_pay</th>\n",
       "      <th>shared_request_flag</th>\n",
       "      <th>shared_match_flag</th>\n",
       "      <th>access_a_ride_flag</th>\n",
       "      <th>wav_request_flag</th>\n",
       "      <th>wav_match_flag</th>\n",
       "    </tr>\n",
       "  </thead>\n",
       "  <tbody>\n",
       "    <tr>\n",
       "      <th>0</th>\n",
       "      <td>HV0003</td>\n",
       "      <td>B02682</td>\n",
       "      <td>B02682</td>\n",
       "      <td>2021-01-01T01:28:09.000+01:00</td>\n",
       "      <td>2021-01-01T01:31:42.000+01:00</td>\n",
       "      <td>2021-01-01T01:33:44.000+01:00</td>\n",
       "      <td>2021-01-01T01:49:07.000+01:00</td>\n",
       "      <td>230</td>\n",
       "      <td>166</td>\n",
       "      <td>5.26</td>\n",
       "      <td>...</td>\n",
       "      <td>1.98</td>\n",
       "      <td>2.75</td>\n",
       "      <td>NaN</td>\n",
       "      <td>0.00</td>\n",
       "      <td>14.99</td>\n",
       "      <td>N</td>\n",
       "      <td>N</td>\n",
       "      <td>NaN</td>\n",
       "      <td>N</td>\n",
       "      <td>N</td>\n",
       "    </tr>\n",
       "    <tr>\n",
       "      <th>1</th>\n",
       "      <td>HV0003</td>\n",
       "      <td>B02682</td>\n",
       "      <td>B02682</td>\n",
       "      <td>2021-01-01T01:45:56.000+01:00</td>\n",
       "      <td>2021-01-01T01:55:19.000+01:00</td>\n",
       "      <td>2021-01-01T01:55:19.000+01:00</td>\n",
       "      <td>2021-01-01T02:18:21.000+01:00</td>\n",
       "      <td>152</td>\n",
       "      <td>167</td>\n",
       "      <td>3.65</td>\n",
       "      <td>...</td>\n",
       "      <td>1.63</td>\n",
       "      <td>0.00</td>\n",
       "      <td>NaN</td>\n",
       "      <td>0.00</td>\n",
       "      <td>17.06</td>\n",
       "      <td>N</td>\n",
       "      <td>N</td>\n",
       "      <td>NaN</td>\n",
       "      <td>N</td>\n",
       "      <td>N</td>\n",
       "    </tr>\n",
       "    <tr>\n",
       "      <th>2</th>\n",
       "      <td>HV0003</td>\n",
       "      <td>B02764</td>\n",
       "      <td>B02764</td>\n",
       "      <td>2021-01-01T01:21:15.000+01:00</td>\n",
       "      <td>2021-01-01T01:22:41.000+01:00</td>\n",
       "      <td>2021-01-01T01:23:56.000+01:00</td>\n",
       "      <td>2021-01-01T01:38:05.000+01:00</td>\n",
       "      <td>233</td>\n",
       "      <td>142</td>\n",
       "      <td>3.51</td>\n",
       "      <td>...</td>\n",
       "      <td>1.25</td>\n",
       "      <td>2.75</td>\n",
       "      <td>NaN</td>\n",
       "      <td>0.94</td>\n",
       "      <td>12.98</td>\n",
       "      <td>N</td>\n",
       "      <td>N</td>\n",
       "      <td>NaN</td>\n",
       "      <td>N</td>\n",
       "      <td>N</td>\n",
       "    </tr>\n",
       "    <tr>\n",
       "      <th>3</th>\n",
       "      <td>HV0003</td>\n",
       "      <td>B02764</td>\n",
       "      <td>B02764</td>\n",
       "      <td>2021-01-01T01:39:12.000+01:00</td>\n",
       "      <td>2021-01-01T01:42:37.000+01:00</td>\n",
       "      <td>2021-01-01T01:42:51.000+01:00</td>\n",
       "      <td>2021-01-01T01:45:50.000+01:00</td>\n",
       "      <td>142</td>\n",
       "      <td>143</td>\n",
       "      <td>0.74</td>\n",
       "      <td>...</td>\n",
       "      <td>0.70</td>\n",
       "      <td>2.75</td>\n",
       "      <td>NaN</td>\n",
       "      <td>0.00</td>\n",
       "      <td>7.41</td>\n",
       "      <td>N</td>\n",
       "      <td>N</td>\n",
       "      <td>NaN</td>\n",
       "      <td>N</td>\n",
       "      <td>N</td>\n",
       "    </tr>\n",
       "    <tr>\n",
       "      <th>4</th>\n",
       "      <td>HV0003</td>\n",
       "      <td>B02764</td>\n",
       "      <td>B02764</td>\n",
       "      <td>2021-01-01T01:46:11.000+01:00</td>\n",
       "      <td>2021-01-01T01:47:17.000+01:00</td>\n",
       "      <td>2021-01-01T01:48:14.000+01:00</td>\n",
       "      <td>2021-01-01T02:08:42.000+01:00</td>\n",
       "      <td>143</td>\n",
       "      <td>78</td>\n",
       "      <td>9.20</td>\n",
       "      <td>...</td>\n",
       "      <td>2.41</td>\n",
       "      <td>2.75</td>\n",
       "      <td>NaN</td>\n",
       "      <td>0.00</td>\n",
       "      <td>22.44</td>\n",
       "      <td>N</td>\n",
       "      <td>N</td>\n",
       "      <td>NaN</td>\n",
       "      <td>N</td>\n",
       "      <td>N</td>\n",
       "    </tr>\n",
       "  </tbody>\n",
       "</table>\n",
       "<p>5 rows × 24 columns</p>\n",
       "</div>"
      ],
      "text/plain": [
       "  hvfhs_license_num dispatching_base_num originating_base_num  \\\n",
       "0            HV0003               B02682               B02682   \n",
       "1            HV0003               B02682               B02682   \n",
       "2            HV0003               B02764               B02764   \n",
       "3            HV0003               B02764               B02764   \n",
       "4            HV0003               B02764               B02764   \n",
       "\n",
       "                request_datetime              on_scene_datetime  \\\n",
       "0  2021-01-01T01:28:09.000+01:00  2021-01-01T01:31:42.000+01:00   \n",
       "1  2021-01-01T01:45:56.000+01:00  2021-01-01T01:55:19.000+01:00   \n",
       "2  2021-01-01T01:21:15.000+01:00  2021-01-01T01:22:41.000+01:00   \n",
       "3  2021-01-01T01:39:12.000+01:00  2021-01-01T01:42:37.000+01:00   \n",
       "4  2021-01-01T01:46:11.000+01:00  2021-01-01T01:47:17.000+01:00   \n",
       "\n",
       "                 pickup_datetime               dropoff_datetime  PULocationID  \\\n",
       "0  2021-01-01T01:33:44.000+01:00  2021-01-01T01:49:07.000+01:00           230   \n",
       "1  2021-01-01T01:55:19.000+01:00  2021-01-01T02:18:21.000+01:00           152   \n",
       "2  2021-01-01T01:23:56.000+01:00  2021-01-01T01:38:05.000+01:00           233   \n",
       "3  2021-01-01T01:42:51.000+01:00  2021-01-01T01:45:50.000+01:00           142   \n",
       "4  2021-01-01T01:48:14.000+01:00  2021-01-01T02:08:42.000+01:00           143   \n",
       "\n",
       "   DOLocationID  trip_miles  ...  sales_tax  congestion_surcharge  \\\n",
       "0           166        5.26  ...       1.98                  2.75   \n",
       "1           167        3.65  ...       1.63                  0.00   \n",
       "2           142        3.51  ...       1.25                  2.75   \n",
       "3           143        0.74  ...       0.70                  2.75   \n",
       "4            78        9.20  ...       2.41                  2.75   \n",
       "\n",
       "   airport_fee  tips  driver_pay  shared_request_flag  shared_match_flag  \\\n",
       "0          NaN  0.00       14.99                    N                  N   \n",
       "1          NaN  0.00       17.06                    N                  N   \n",
       "2          NaN  0.94       12.98                    N                  N   \n",
       "3          NaN  0.00        7.41                    N                  N   \n",
       "4          NaN  0.00       22.44                    N                  N   \n",
       "\n",
       "   access_a_ride_flag  wav_request_flag wav_match_flag  \n",
       "0                 NaN                 N              N  \n",
       "1                 NaN                 N              N  \n",
       "2                 NaN                 N              N  \n",
       "3                 NaN                 N              N  \n",
       "4                 NaN                 N              N  \n",
       "\n",
       "[5 rows x 24 columns]"
      ]
     },
     "execution_count": 28,
     "metadata": {},
     "output_type": "execute_result"
    }
   ],
   "source": [
    "df_pandas = pd.read_csv('head.csv')\n",
    "df_pandas.head(5)"
   ]
  },
  {
   "cell_type": "code",
   "execution_count": 29,
   "id": "18319c21-3cb0-4645-bbff-712216917363",
   "metadata": {},
   "outputs": [
    {
     "data": {
      "text/plain": [
       "hvfhs_license_num        object\n",
       "dispatching_base_num     object\n",
       "originating_base_num     object\n",
       "request_datetime         object\n",
       "on_scene_datetime        object\n",
       "pickup_datetime          object\n",
       "dropoff_datetime         object\n",
       "PULocationID              int64\n",
       "DOLocationID              int64\n",
       "trip_miles              float64\n",
       "trip_time                 int64\n",
       "base_passenger_fare     float64\n",
       "tolls                   float64\n",
       "bcf                     float64\n",
       "sales_tax               float64\n",
       "congestion_surcharge    float64\n",
       "airport_fee             float64\n",
       "tips                    float64\n",
       "driver_pay              float64\n",
       "shared_request_flag      object\n",
       "shared_match_flag        object\n",
       "access_a_ride_flag       object\n",
       "wav_request_flag         object\n",
       "wav_match_flag           object\n",
       "dtype: object"
      ]
     },
     "execution_count": 29,
     "metadata": {},
     "output_type": "execute_result"
    }
   ],
   "source": [
    "df_pandas.dtypes"
   ]
  },
  {
   "cell_type": "code",
   "execution_count": null,
   "id": "a99cf55b-af75-4e64-8ff9-d52a82682027",
   "metadata": {},
   "outputs": [],
   "source": []
  }
 ],
 "metadata": {
  "kernelspec": {
   "display_name": "Python 3 (ipykernel)",
   "language": "python",
   "name": "python3"
  },
  "language_info": {
   "codemirror_mode": {
    "name": "ipython",
    "version": 3
   },
   "file_extension": ".py",
   "mimetype": "text/x-python",
   "name": "python",
   "nbconvert_exporter": "python",
   "pygments_lexer": "ipython3",
   "version": "3.9.15"
  }
 },
 "nbformat": 4,
 "nbformat_minor": 5
}
