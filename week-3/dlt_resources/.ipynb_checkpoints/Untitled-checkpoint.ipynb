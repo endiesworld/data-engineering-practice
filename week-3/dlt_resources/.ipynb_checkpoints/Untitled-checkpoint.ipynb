{
 "cells": [
  {
   "cell_type": "code",
   "execution_count": 4,
   "id": "06d7683e",
   "metadata": {},
   "outputs": [
    {
     "ename": "SyntaxError",
     "evalue": "invalid syntax (3036716323.py, line 1)",
     "output_type": "error",
     "traceback": [
      "\u001b[0;36m  File \u001b[0;32m\"/var/folders/6k/h58d23tj54bch5pttmj5tjwm0000gn/T/ipykernel_11003/3036716323.py\"\u001b[0;36m, line \u001b[0;32m1\u001b[0m\n\u001b[0;31m    ../../venv/Scripts/activate\u001b[0m\n\u001b[0m    ^\u001b[0m\n\u001b[0;31mSyntaxError\u001b[0m\u001b[0;31m:\u001b[0m invalid syntax\n"
     ]
    }
   ],
   "source": [
    "../../venv/Scripts/activate\n"
   ]
  },
  {
   "cell_type": "code",
   "execution_count": 1,
   "id": "6733adde",
   "metadata": {},
   "outputs": [
    {
     "ename": "ModuleNotFoundError",
     "evalue": "No module named 'dlt'",
     "output_type": "error",
     "traceback": [
      "\u001b[0;31m---------------------------------------------------------------------------\u001b[0m",
      "\u001b[0;31mModuleNotFoundError\u001b[0m                       Traceback (most recent call last)",
      "\u001b[0;32m/var/folders/6k/h58d23tj54bch5pttmj5tjwm0000gn/T/ipykernel_11003/1539074133.py\u001b[0m in \u001b[0;36m<module>\u001b[0;34m\u001b[0m\n\u001b[0;32m----> 1\u001b[0;31m \u001b[0;32mimport\u001b[0m \u001b[0mdlt\u001b[0m\u001b[0;34m\u001b[0m\u001b[0;34m\u001b[0m\u001b[0m\n\u001b[0m\u001b[1;32m      2\u001b[0m \u001b[0;32mimport\u001b[0m \u001b[0mduckdb\u001b[0m\u001b[0;34m\u001b[0m\u001b[0;34m\u001b[0m\u001b[0m\n\u001b[1;32m      3\u001b[0m \u001b[0;34m\u001b[0m\u001b[0m\n\u001b[1;32m      4\u001b[0m data = [\n\u001b[1;32m      5\u001b[0m     {\n",
      "\u001b[0;31mModuleNotFoundError\u001b[0m: No module named 'dlt'"
     ]
    }
   ],
   "source": [
    "import dlt\n",
    "import duckdb\n",
    "\n",
    "data = [\n",
    "    {\n",
    "        \"vendor_name\": \"VTS\",\n",
    "\t\t\t\t\"record_hash\": \"b00361a396177a9cb410ff61f20015ad\",\n",
    "        \"time\": {\n",
    "            \"pickup\": \"2009-06-14 23:23:00\",\n",
    "            \"dropoff\": \"2009-06-14 23:48:00\"\n",
    "        },\n",
    "        \"Trip_Distance\": 17.52,\n",
    "        \"coordinates\": {\n",
    "            \"start\": {\n",
    "                \"lon\": -73.787442,\n",
    "                \"lat\": 40.641525\n",
    "            },\n",
    "            \"end\": {\n",
    "                \"lon\": -73.980072,\n",
    "                \"lat\": 40.742963\n",
    "            }\n",
    "        },\n",
    "        \"Rate_Code\": None,\n",
    "        \"store_and_forward\": None,\n",
    "        \"Payment\": {\n",
    "            \"type\": \"Credit\",\n",
    "            \"amt\": 20.5,\n",
    "            \"surcharge\": 0,\n",
    "            \"mta_tax\": None,\n",
    "            \"tip\": 9,\n",
    "            \"tolls\": 4.15,\n",
    "\t\t\t\t\t\t\"status\": \"cancelled\"\n",
    "        },\n",
    "        \"Passenger_Count\": 2,\n",
    "        \"passengers\": [\n",
    "            {\"name\": \"John\", \"rating\": 4.4},\n",
    "            {\"name\": \"Jack\", \"rating\": 3.6}\n",
    "        ],\n",
    "        \"Stops\": [\n",
    "            {\"lon\": -73.6, \"lat\": 40.6},\n",
    "            {\"lon\": -73.5, \"lat\": 40.5}\n",
    "        ]\n",
    "    },\n",
    "]\n",
    "\n",
    "# define the connection to load to.\n",
    "# We now use duckdb, but you can switch to Bigquery later\n",
    "pipeline = dlt.pipeline(destination='duckdb', dataset_name='taxi_rides')\n",
    "\n",
    "# run the pipeline with default settings, and capture the outcome\n",
    "info = pipeline.run(data,\n",
    "\t\t\t\t\t\t\t\t\t\ttable_name=\"rides\",\n",
    "\t\t\t\t\t\t\t\t\t\twrite_disposition=\"merge\",\n",
    "                    primary_key='record_hash')\n",
    "\n",
    "# show the outcome\n",
    "\n",
    "conn = duckdb.connect(f\"{pipeline.pipeline_name}.duckdb\")\n",
    "\n",
    "# let's see the tables\n",
    "conn.sql(f\"SET search_path = '{pipeline.dataset_name}'\")\n",
    "print('Loaded tables: ')\n",
    "display(conn.sql(\"show tables\"))\n",
    "\n",
    "\n",
    "print(\"\\n\\n\\n Rides table below: Note the times are properly typed\")\n",
    "rides = conn.sql(\"SELECT * FROM rides\").df()\n",
    "display(rides)\n",
    "\n",
    "print(\"\\n\\n\\n Pasengers table\")\n",
    "passengers = conn.sql(\"SELECT * FROM rides__passengers\").df()\n",
    "display(passengers)\n",
    "print(\"\\n\\n\\n Stops table\")\n",
    "stops = conn.sql(\"SELECT * FROM rides__stops\").df()\n",
    "display(stops)\n"
   ]
  },
  {
   "cell_type": "code",
   "execution_count": null,
   "id": "3b70f46e",
   "metadata": {},
   "outputs": [],
   "source": []
  },
  {
   "cell_type": "code",
   "execution_count": null,
   "id": "1325476e",
   "metadata": {},
   "outputs": [],
   "source": []
  }
 ],
 "metadata": {
  "kernelspec": {
   "display_name": "Python 3 (ipykernel)",
   "language": "python",
   "name": "python3"
  },
  "language_info": {
   "codemirror_mode": {
    "name": "ipython",
    "version": 3
   },
   "file_extension": ".py",
   "mimetype": "text/x-python",
   "name": "python",
   "nbconvert_exporter": "python",
   "pygments_lexer": "ipython3",
   "version": "3.8.12"
  }
 },
 "nbformat": 4,
 "nbformat_minor": 5
}
